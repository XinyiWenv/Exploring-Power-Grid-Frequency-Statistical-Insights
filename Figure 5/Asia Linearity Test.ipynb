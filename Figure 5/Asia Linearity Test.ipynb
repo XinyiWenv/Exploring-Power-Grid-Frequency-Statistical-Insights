{
 "cells": [
  {
   "cell_type": "code",
   "execution_count": 1,
   "id": "fab9fb12",
   "metadata": {},
   "outputs": [],
   "source": [
    "import pandas as pd\n",
    "import numpy as np\n",
    "import os\n",
    "import matplotlib.pyplot as plt\n",
    "\n",
    "\n",
    "folder_path = 'C:/1.1 Asia frequency data'\n",
    "file_names = os.listdir(folder_path)\n",
    "\n",
    "dataframes=[]\n",
    "for file_name in file_names:\n",
    "    file_path=os.path.join(folder_path, file_name)\n",
    "    df=pd.read_csv(file_path, sep=';') \n",
    "    df.iloc[:,1]=df.iloc[:,1]/1000+50\n",
    "    dataframes.append(df)\n",
    "\n",
    "\n",
    "# dataframes[0] is Australia, [1] is Indonesia, [2] is Malaysia01, [3] is Malaysia02, [4] is Sinagpore\n",
    "\n",
    "\n",
    "\n",
    "# combine dataframe[2] and dataframe[3]\n",
    "combined_df = pd.concat([dataframes[2], dataframes[3]], ignore_index=True)\n",
    "\n",
    "# replace dataframe[2] and dataframe[3] with combined_df in dataframes list\n",
    "dataframes[2:4] = [combined_df]\n",
    "\n",
    "# dataframes[0] is Australia\n",
    "# dataframes[1] is Indonesia\n",
    "# dataframes[2] is Malaysia\n",
    "# dataframes[3] is Sinagpore\n",
    "\n",
    "\n",
    "# Only select quality QI=0\n",
    "flt_dataframes = []\n",
    "for df in dataframes:\n",
    "    flt_df = df[df['QI'] == 0]\n",
    "    flt_dataframes.append(flt_df) \n",
    "    \n",
    "region_dict = {0: 'Australia', 1: 'Indonesia', 2: 'Malaysia', 3: 'Singapore'}\n",
    "\n",
    "# Group the dataframes by region\n",
    "region_groups = [df.groupby(lambda x: region_dict[i]) for i, df in enumerate(flt_dataframes)]"
   ]
  },
  {
   "cell_type": "code",
   "execution_count": 3,
   "id": "6c00a304",
   "metadata": {},
   "outputs": [],
   "source": [
    "from sklearn.metrics import mean_squared_error, mean_absolute_error\n",
    "\n",
    "def LTtest (data):\n",
    "    # Compute Fourier transform \n",
    "    fft_0 = np.fft.fft(data)\n",
    "    \n",
    "    # Randomize phases of Fourier coefficients\n",
    "    rand_phases = np.random.uniform(0, 2*np.pi, size=len(fft_0))\n",
    "    surrogate = np.abs(fft_0) * np.exp(1j * rand_phases)\n",
    "    \n",
    "    # Compute inverse Fourier transform to obtain surrogate data\n",
    "    surrogate = np.real(np.fft.ifft(surrogate))\n",
    "    \n",
    "    data = data[~np.isnan(data)]\n",
    "    L = len(data)\n",
    "    \n",
    "    tau = np.arange(1, 82801,900 )\n",
    "    #tau = np.arange(0, L//2, 3600)\n",
    "    res_1 = np.zeros(len(tau))\n",
    "    res_2 = np.zeros(len(tau))\n",
    "    surr_1 = np.zeros(len(tau))\n",
    "    surr_2 = np.zeros(len(tau))\n",
    "\n",
    "    for i in range(len(tau)):\n",
    "        x_t = data[0 :L-tau[i]]\n",
    "        x_tau = data[tau[i]:L]\n",
    "        y_t = surrogate[0:(L-tau[i])]\n",
    "        y_tau = surrogate[(tau[i]):L]\n",
    "\n",
    "\n",
    "        # First method LT1\n",
    "        res_1[i] = np.mean(x_t**2 * x_tau)-np.mean(x_t * x_tau**2)\n",
    "        surr_1[i] = np.mean(y_t**2 * y_tau)-np.mean(y_t *y_tau**2)\n",
    "\n",
    "        # Second method LT2\n",
    "        res_2[i] = np.mean((x_t-x_tau)**3)/np.mean((x_t-x_tau)**2)\n",
    "        surr_2[i] = np.mean((y_t-y_tau)**3)/np.mean((y_t-y_tau)**2)\n",
    "        \n",
    "    # Calculate the rmse(LT1)\n",
    "    mse_lt1 = mean_squared_error(np.nan_to_num(res_1), np.nan_to_num(surr_1))\n",
    "    rmse_lt1 = np.sqrt(mse_lt1)\n",
    "        \n",
    "    # Calculate the rmse(LT2)\n",
    "    mse_lt2 = mean_squared_error(np.nan_to_num(res_2), np.nan_to_num(surr_2))\n",
    "    rmse_lt2 = np.sqrt(mse_lt2)\n",
    "    \n",
    "    return res_1,surr_1,res_2,surr_2,rmse_lt1,rmse_lt2"
   ]
  },
  {
   "cell_type": "code",
   "execution_count": 4,
   "id": "52c888f8",
   "metadata": {},
   "outputs": [],
   "source": [
    "aus_res_1,aus_surr_1,aus_res_2,aus_surr_2,aus_rmse_lt1,aus_rmse_lt2 = LTtest(flt_dataframes[0].f50.dropna().values)\n",
    "idn_res_1,idn_surr_1,idn_res_2,idn_surr_2,idn_rmse_lt1,idn_rmse_lt2 = LTtest(flt_dataframes[1].f50.dropna().values)\n",
    "mys_res_1,mys_surr_1,mys_res_2,mys_surr_2,mys_rmse_lt1,mys_rmse_lt2 = LTtest(flt_dataframes[2].f50.dropna().values)\n",
    "sgp_res_1,sgp_surr_1,sgp_res_2,sgp_surr_2,sgp_rmse_lt1,sgp_rmse_lt2 = LTtest(flt_dataframes[3].f50.dropna().values)"
   ]
  },
  {
   "cell_type": "code",
   "execution_count": 5,
   "id": "b9b4edb1",
   "metadata": {},
   "outputs": [
    {
     "name": "stdout",
     "output_type": "stream",
     "text": [
      "Stored 'asia_rmse_lt1' (list)\n",
      "Stored 'asia_rmse_lt2' (list)\n"
     ]
    }
   ],
   "source": [
    "asia_rmse_lt1=[aus_rmse_lt1,idn_rmse_lt1,mys_rmse_lt1,sgp_rmse_lt1]\n",
    "asia_rmse_lt2=[aus_rmse_lt2,idn_rmse_lt2,mys_rmse_lt2,sgp_rmse_lt2]\n",
    "%store asia_rmse_lt1\n",
    "%store asia_rmse_lt2"
   ]
  }
 ],
 "metadata": {
  "kernelspec": {
   "display_name": "Python 3 (ipykernel)",
   "language": "python",
   "name": "python3"
  },
  "language_info": {
   "codemirror_mode": {
    "name": "ipython",
    "version": 3
   },
   "file_extension": ".py",
   "mimetype": "text/x-python",
   "name": "python",
   "nbconvert_exporter": "python",
   "pygments_lexer": "ipython3",
   "version": "3.10.10"
  }
 },
 "nbformat": 4,
 "nbformat_minor": 5
}
