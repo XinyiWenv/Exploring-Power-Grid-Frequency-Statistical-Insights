{
 "cells": [
  {
   "cell_type": "code",
   "execution_count": 1,
   "id": "df925845",
   "metadata": {},
   "outputs": [],
   "source": [
    "import pandas as pd\n",
    "import numpy as np\n",
    "import os\n",
    "import matplotlib.pyplot as plt\n",
    "\n",
    "# Set the directory path and filenames\n",
    "dir_path = 'C:/1. Power grid frequency data/'\n",
    "file_names = ['ES_PM01.csv', 'IS02.csv', 'IRL01.csv']\n",
    "\n",
    "# Load the CSV files into dataframes\n",
    "dfs = []\n",
    "for file_name in file_names:\n",
    "    file_path = dir_path + file_name\n",
    "    df = pd.read_csv(file_path, sep=';', \n",
    "                     usecols=[0,1,2], names=['Time','f50','QI'],\n",
    "                     header=0)\n",
    "    df.iloc[:,1]=df.iloc[:,1]/1000+50\n",
    "    dfs.append(df)\n",
    "\n",
    "\n",
    "# Only select quality QI=0\n",
    "flt_dfs = []\n",
    "for df in dfs:\n",
    "    flt_df = df[df['QI'] == 0]\n",
    "    flt_dfs.append(flt_df)\n",
    "    \n",
    "region_dict = {0: 'Mallorcaa', 1: 'Iceland', 2: 'Ireland'}\n",
    "\n",
    "# Group the dataframes by region\n",
    "region_groups = [df.groupby(lambda x: region_dict[i]) for i, df in enumerate(flt_dfs)]"
   ]
  },
  {
   "cell_type": "code",
   "execution_count": 2,
   "id": "3514eb4a",
   "metadata": {},
   "outputs": [],
   "source": [
    "from sklearn.metrics import mean_squared_error, mean_absolute_error\n",
    "\n",
    "def LTtest (data):\n",
    "    # Compute Fourier transform \n",
    "    fft_0 = np.fft.fft(data)\n",
    "    \n",
    "    # Randomize phases of Fourier coefficients\n",
    "    rand_phases = np.random.uniform(0, 2*np.pi, size=len(fft_0))\n",
    "    surrogate = np.abs(fft_0) * np.exp(1j * rand_phases)\n",
    "    \n",
    "    # Compute inverse Fourier transform to obtain surrogate data\n",
    "    surrogate = np.real(np.fft.ifft(surrogate))\n",
    "    \n",
    "    data = data[~np.isnan(data)]\n",
    "    L = len(data)\n",
    "    \n",
    "    tau = np.arange(1, 82801,900 )\n",
    "    #tau = np.arange(0, L//2, 1800)\n",
    "    res_1 = np.zeros(len(tau))\n",
    "    res_2 = np.zeros(len(tau))\n",
    "    surr_1 = np.zeros(len(tau))\n",
    "    surr_2 = np.zeros(len(tau))\n",
    "\n",
    "    for i in range(len(tau)):\n",
    "        x_t = data[0 :L-tau[i]]\n",
    "        x_tau = data[tau[i]:L]\n",
    "        y_t = surrogate[0:(L-tau[i])]\n",
    "        y_tau = surrogate[(tau[i]):L]\n",
    "\n",
    "\n",
    "        # First method LT1\n",
    "        res_1[i] = np.mean(x_t**2 * x_tau)-np.mean(x_t * x_tau**2)\n",
    "        surr_1[i] = np.mean(y_t**2 * y_tau)-np.mean(y_t *y_tau**2)\n",
    "\n",
    "        # Second method LT2\n",
    "        res_2[i] = np.mean((x_t-x_tau)**3)/np.mean((x_t-x_tau)**2)\n",
    "        surr_2[i] = np.mean((y_t-y_tau)**3)/np.mean((y_t-y_tau)**2)\n",
    "        \n",
    "    # Calculate the rmse(LT1)\n",
    "    mse_lt1 = mean_squared_error(np.nan_to_num(res_1), np.nan_to_num(surr_1))\n",
    "    rmse_lt1 = np.sqrt(mse_lt1)\n",
    "        \n",
    "    # Calculate the rmse(LT2)\n",
    "    mse_lt2 = mean_squared_error(np.nan_to_num(res_2), np.nan_to_num(surr_2))\n",
    "    rmse_lt2 = np.sqrt(mse_lt2)\n",
    "    \n",
    "    return res_1,surr_1,res_2,surr_2,rmse_lt1,rmse_lt2"
   ]
  },
  {
   "cell_type": "code",
   "execution_count": 3,
   "id": "9cd4c876",
   "metadata": {},
   "outputs": [],
   "source": [
    "mal_res_1,mal_surr_1,mal_res_2,mal_surr_2,mal_rmse_lt1,mal_rmse_lt2 = LTtest(flt_dfs[0].f50.dropna().values)\n",
    "ice_res_1,ice_surr_1,ice_res_2,ice_surr_2,ice_rmse_lt1,ice_rmse_lt2 = LTtest(flt_dfs[1].f50.dropna().values)\n",
    "ire_res_1,ire_surr_1,ire_res_2,ire_surr_2,ire_rmse_lt1,ire_rmse_lt2 = LTtest(flt_dfs[2].f50.dropna().values)\n"
   ]
  },
  {
   "cell_type": "code",
   "execution_count": null,
   "id": "a5a6c15e",
   "metadata": {},
   "outputs": [],
   "source": [
    "euro_rmse_lt1=[mal_rmse_lt1,ice_rmse_lt1,ire_rmse_lt1]\n",
    "euro_rmse_lt2=[mal_rmse_lt2,ice_rmse_lt2,ire_rmse_lt2]\n",
    "%store euro_rmse_lt1\n",
    "%store euro_rmse_lt2"
   ]
  }
 ],
 "metadata": {
  "kernelspec": {
   "display_name": "Python 3 (ipykernel)",
   "language": "python",
   "name": "python3"
  },
  "language_info": {
   "codemirror_mode": {
    "name": "ipython",
    "version": 3
   },
   "file_extension": ".py",
   "mimetype": "text/x-python",
   "name": "python",
   "nbconvert_exporter": "python",
   "pygments_lexer": "ipython3",
   "version": "3.10.10"
  }
 },
 "nbformat": 4,
 "nbformat_minor": 5
}
