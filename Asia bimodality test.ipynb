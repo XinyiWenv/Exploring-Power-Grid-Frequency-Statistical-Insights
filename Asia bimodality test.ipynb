{
 "cells": [
  {
   "cell_type": "code",
   "execution_count": 1,
   "id": "ff05cb30",
   "metadata": {},
   "outputs": [],
   "source": [
    "import pandas as pd\n",
    "import matplotlib.pyplot as plt\n",
    "import os\n",
    "import numpy as np\n",
    "import diptest\n",
    "\n",
    "folder_path = 'C:/1.1 Asia frequency data'\n",
    "file_names = os.listdir(folder_path)\n",
    "\n",
    "dataframes=[]\n",
    "for file_name in file_names:\n",
    "    file_path=os.path.join(folder_path, file_name)\n",
    "    df=pd.read_csv(file_path, sep=';') \n",
    "    df.iloc[:,1]=df.iloc[:,1]/1000+50\n",
    "    dataframes.append(df)\n",
    "\n",
    "    \n",
    "# dataframes[0] is Australia, [1] is Indonesia, [2] is Malaysia01, [3] is Malaysia02, [4] is Sinagpore\n",
    "# combine dataframe[2] and dataframe[3]\n",
    "combined_df = pd.concat([dataframes[2], dataframes[3]], ignore_index=True)\n",
    "\n",
    "# replace dataframe[2] and dataframe[3] with combined_df in dataframes list\n",
    "dataframes[2:4] = [combined_df]\n",
    "\n",
    "# dataframes[0] is Australia\n",
    "# dataframes[1] is Indonesia\n",
    "# dataframes[2] is Malaysia\n",
    "# dataframes[3] is Sinagpore\n",
    "\n",
    "\n",
    "# Only select quality QI=0\n",
    "flt_dataframes = []\n",
    "for df in dataframes:\n",
    "    flt_df = df[df['QI'] == 0]\n",
    "    flt_dataframes.append(flt_df)\n",
    "    \n",
    "region_dict = {0: 'Australia', 1: 'Indonesia', 2: 'Malaysia',  3: 'Singapore'}\n",
    "\n",
    "# Group the dataframes by region\n",
    "region_groups = [df.groupby(lambda x: region_dict[i]) for i, df in enumerate(flt_dataframes)]    "
   ]
  },
  {
   "cell_type": "code",
   "execution_count": 5,
   "id": "721eeb0b",
   "metadata": {},
   "outputs": [
    {
     "name": "stdout",
     "output_type": "stream",
     "text": [
      "Stored 'asia_dip' (list)\n"
     ]
    }
   ],
   "source": [
    "asia_dip=[]\n",
    "for i, df in enumerate (flt_dataframes):\n",
    "    dip,pval = diptest.diptest(df['f50'].astype(float))\n",
    "    region=region_dict[i]\n",
    "    asia_dip.append((dip))\n",
    "%store asia_dip"
   ]
  }
 ],
 "metadata": {
  "kernelspec": {
   "display_name": "Python 3 (ipykernel)",
   "language": "python",
   "name": "python3"
  },
  "language_info": {
   "codemirror_mode": {
    "name": "ipython",
    "version": 3
   },
   "file_extension": ".py",
   "mimetype": "text/x-python",
   "name": "python",
   "nbconvert_exporter": "python",
   "pygments_lexer": "ipython3",
   "version": "3.10.10"
  }
 },
 "nbformat": 4,
 "nbformat_minor": 5
}
