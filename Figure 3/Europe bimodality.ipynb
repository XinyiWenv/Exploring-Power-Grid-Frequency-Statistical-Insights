{
 "cells": [
  {
   "cell_type": "code",
   "execution_count": 1,
   "id": "1a54e004",
   "metadata": {},
   "outputs": [],
   "source": [
    "import pandas as pd\n",
    "\n",
    "# Set the directory path and filenames\n",
    "dir_path = 'C:/1. Power grid frequency data/'\n",
    "file_names = ['ES_PM01.csv', 'IS02.csv', 'IRL01.csv']\n",
    "\n",
    "# Load the CSV files into dataframes\n",
    "dfs = []\n",
    "for file_name in file_names:\n",
    "    file_path = dir_path + file_name\n",
    "    df = pd.read_csv(file_path, sep=';', \n",
    "                     usecols=[0,1,2], names=['Time','f50','QI'],\n",
    "                     header=0)\n",
    "    dfs.append(df)\n",
    "\n",
    "\n",
    "# Only select quality QI=0\n",
    "flt_dfs = []\n",
    "for df in dfs:\n",
    "    flt_df = df[df['QI'] == 0]\n",
    "    flt_dfs.append(flt_df)\n",
    "    \n",
    "region_dict = {0: 'Balearic', 1: 'Iceland', 2: 'Ireland'}\n",
    "\n",
    "# Group the dataframes by region\n",
    "region_groups = [df.groupby(lambda x: region_dict[i]) for i, df in enumerate(flt_dfs)]"
   ]
  },
  {
   "cell_type": "code",
   "execution_count": 3,
   "id": "8726a43d",
   "metadata": {},
   "outputs": [],
   "source": [
    "skewness = [g.skew(numeric_only=True)['f50'] for g in region_groups]\n",
    "kurtosis = [g['f50'].apply(pd.Series.kurtosis) for g in region_groups]\n",
    "std_devs = [g.std(numeric_only=True)['f50'] for g in region_groups]\n",
    "means = [g.mean(numeric_only=True)['f50'] for g in region_groups]\n",
    "\n",
    "# Calculate the standardized third and fourth moments around the mean for each region\n",
    "std_third_moments = [(skewness[i] * std_devs[i]**3) / len(list(region_groups[i]['f50'])) for i in range(len(region_groups))]\n",
    "std_fourth_moments = [(kurtosis[i] * std_devs[i]**4) / len(list(region_groups[i]['f50'])) for i in range(len(region_groups))]\n",
    "\n",
    "# Calculate the square of the standardized third moment around the mean for each region\n",
    "square_std_third_moments = [std_third_moments[i]**2 for i in range(len(region_groups))]\n",
    "\n",
    "# Calculate the difference between the standardized fourth moment around the mean and the square of the standardized third moment around the mean for each region\n",
    "euro_differences = [std_fourth_moments[i] - square_std_third_moments[i] for i in range(len(region_groups))]"
   ]
  },
  {
   "cell_type": "code",
   "execution_count": 4,
   "id": "53cc5111",
   "metadata": {},
   "outputs": [],
   "source": [
    "import diptest\n",
    "\n",
    "euro_dip=[]\n",
    "for i, df in enumerate (flt_dfs):\n",
    "    dip,pval = diptest.diptest(df['f50'].astype(float))\n",
    "    region=region_dict[i]\n",
    "    euro_dip.append((dip))\n",
    "    \n",
    "%store euro_dip"
   ]
  }
 ],
 "metadata": {
  "kernelspec": {
   "display_name": "Python 3 (ipykernel)",
   "language": "python",
   "name": "python3"
  },
  "language_info": {
   "codemirror_mode": {
    "name": "ipython",
    "version": 3
   },
   "file_extension": ".py",
   "mimetype": "text/x-python",
   "name": "python",
   "nbconvert_exporter": "python",
   "pygments_lexer": "ipython3",
   "version": "3.10.10"
  }
 },
 "nbformat": 4,
 "nbformat_minor": 5
}
