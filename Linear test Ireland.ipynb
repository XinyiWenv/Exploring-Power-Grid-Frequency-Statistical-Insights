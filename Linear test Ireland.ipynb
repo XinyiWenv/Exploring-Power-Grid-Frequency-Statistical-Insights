{
 "cells": [
  {
   "cell_type": "code",
   "execution_count": 2,
   "id": "9d58def8",
   "metadata": {},
   "outputs": [],
   "source": [
    "import numpy as np\n",
    "import seaborn as sns\n",
    "import matplotlib.pyplot as plt\n",
    "from sklearn.metrics import mean_squared_error, mean_absolute_error"
   ]
  },
  {
   "cell_type": "code",
   "execution_count": 3,
   "id": "4fb61c9e",
   "metadata": {},
   "outputs": [],
   "source": [
    "Irish = np.load('Data_from_Ulrichs_paper/Irish_data.npz')\n",
    "\n",
    "data = [Irish['freq_model1'],Irish['freq_model3'],Irish['freq_model4']]\n",
    "# Remove NaN values from the data\n",
    "data = [d[~np.isnan(d)] for d in data]\n",
    "\n",
    "# Define the regions dictionary\n",
    "region_dict = {0: 'Model 1', 1: 'Model 3', 2: 'Model 4'}\n",
    "colors=('#1b9e77', '#d95f02','#7570b3')"
   ]
  },
  {
   "cell_type": "code",
   "execution_count": 20,
   "id": "84ddad38",
   "metadata": {},
   "outputs": [],
   "source": [
    "def LTtest (data):\n",
    "    # Compute Fourier transform \n",
    "    fft_0 = np.fft.fft(data)\n",
    "    \n",
    "    # Randomize phases of Fourier coefficients\n",
    "    rand_phases = np.random.uniform(0, 2*np.pi, size=len(fft_0))\n",
    "    surrogate = np.abs(fft_0) * np.exp(1j * rand_phases)\n",
    "    \n",
    "    # Compute inverse Fourier transform to obtain surrogate data\n",
    "    surrogate = np.real(np.fft.ifft(surrogate))\n",
    "    \n",
    "    data = data[~np.isnan(data)]\n",
    "    L = len(data)\n",
    "    \n",
    "    tau = np.arange(1, 82801,540 )\n",
    "    #tau = np.arange(0, L//2, 3600)\n",
    "    res_1 = np.zeros(len(tau))\n",
    "    res_2 = np.zeros(len(tau))\n",
    "    surr_1 = np.zeros(len(tau))\n",
    "    surr_2 = np.zeros(len(tau))\n",
    "\n",
    "    for i in range(len(tau)):\n",
    "        x_t = data[0 :L-tau[i]]\n",
    "        x_tau = data[tau[i]:L]\n",
    "        y_t = surrogate[0:(L-tau[i])]\n",
    "        y_tau = surrogate[(tau[i]):L]\n",
    "\n",
    "        # Second method LT2\n",
    "        res_2[i] = np.mean((x_t-x_tau)**3)/np.mean((x_t-x_tau)**2)\n",
    "        surr_2[i] = np.mean((y_t-y_tau)**3)/np.mean((y_t-y_tau)**2)      \n",
    "        \n",
    "    # Calculate the rmse(LT2)\n",
    "    mse_lt2 = mean_squared_error(np.nan_to_num(res_2), np.nan_to_num(surr_2))\n",
    "    rmse_lt2 = np.sqrt(mse_lt2)\n",
    "    \n",
    "    #return rmse_lt2\n",
    "    return rmse_lt2"
   ]
  },
  {
   "cell_type": "code",
   "execution_count": 21,
   "id": "04a333f4",
   "metadata": {},
   "outputs": [],
   "source": [
    "model_lt = []\n",
    "for i, df in enumerate(data):\n",
    "    rmse_lt2 = LTtest(df)\n",
    "    model_lt.append((region_dict[i], rmse_lt2))\n",
    "#%store euro_lt"
   ]
  },
  {
   "cell_type": "code",
   "execution_count": 23,
   "id": "7461a495",
   "metadata": {},
   "outputs": [
    {
     "name": "stdout",
     "output_type": "stream",
     "text": [
      "Stored 'model_lt' (list)\n"
     ]
    }
   ],
   "source": [
    "%store model_lt"
   ]
  }
 ],
 "metadata": {
  "kernelspec": {
   "display_name": "Python 3 (ipykernel)",
   "language": "python",
   "name": "python3"
  },
  "language_info": {
   "codemirror_mode": {
    "name": "ipython",
    "version": 3
   },
   "file_extension": ".py",
   "mimetype": "text/x-python",
   "name": "python",
   "nbconvert_exporter": "python",
   "pygments_lexer": "ipython3",
   "version": "3.11.4"
  }
 },
 "nbformat": 4,
 "nbformat_minor": 5
}
